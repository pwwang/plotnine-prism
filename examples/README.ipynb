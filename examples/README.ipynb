{
 "cells": [
  {
   "cell_type": "code",
   "execution_count": 1,
   "source": [
    "from plotnine import *\n",
    "from plotnine_prism import *\n",
    "\n",
    "from nb_helpers import ToothGrowth, plot_grid"
   ],
   "outputs": [],
   "metadata": {}
  },
  {
   "cell_type": "code",
   "execution_count": 2,
   "source": [
    "base = (\n",
    "    ggplot(ToothGrowth, aes(x = \"dose\", y = \"len\")) + \n",
    "    geom_violin(aes(colour = \"dose\", fill = \"dose\"), trim = False) + \n",
    "    geom_boxplot(aes(fill = \"dose\"), width = 0.2, colour = \"black\") \n",
    ")"
   ],
   "outputs": [],
   "metadata": {}
  },
  {
   "cell_type": "code",
   "execution_count": 3,
   "source": [
    "p1 = base + ylim(-5, 40)\n",
    "p2 = (\n",
    "    base + \n",
    "    scale_y_continuous(limits=[-5, 40], guide=guide_prism_offset_minor()) +\n",
    "    scale_color_prism('floral') +\n",
    "    scale_fill_prism('floral') +\n",
    "    theme_prism() \n",
    ")\n",
    "plot_grid(p1, p2)"
   ],
   "outputs": [
    {
     "output_type": "display_data",
     "data": {
      "text/plain": [
       "VBox(children=(HBox(children=(Output(), Output())),))"
      ],
      "application/vnd.jupyter.widget-view+json": {
       "model_id": "b9d7a0e0d11c4cef995fede56a6bda40",
       "version_major": 2,
       "version_minor": 0
      }
     },
     "metadata": {}
    }
   ],
   "metadata": {}
  }
 ],
 "metadata": {
  "interpreter": {
   "hash": "c4cc73b080e063fcebb9afb794613be7caf4b26129562cba1382945a18cc49cc"
  },
  "kernelspec": {
   "name": "python3",
   "display_name": "Python 3.7.8 64-bit ('base': conda)"
  },
  "language_info": {
   "codemirror_mode": {
    "name": "ipython",
    "version": 3
   },
   "file_extension": ".py",
   "mimetype": "text/x-python",
   "name": "python",
   "nbconvert_exporter": "python",
   "pygments_lexer": "ipython3",
   "version": "3.7.8"
  }
 },
 "nbformat": 4,
 "nbformat_minor": 4
}