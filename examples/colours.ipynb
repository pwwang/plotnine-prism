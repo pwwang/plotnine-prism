{
 "cells": [
  {
   "cell_type": "markdown",
   "metadata": {},
   "source": [
    "# Color scales"
   ]
  },
  {
   "cell_type": "code",
   "execution_count": 1,
   "metadata": {},
   "outputs": [
    {
     "name": "stderr",
     "output_type": "stream",
     "text": [
      "[2022-05-12 21:18:25][datar][WARNING] Package `pdtypes` not installed for `options(enable_pdtypes=True)`\n"
     ]
    },
    {
     "data": {
      "image/png": "[encoded data removed]",
      "text/plain": [
       "<Figure size 432x288 with 1 Axes>"
      ]
     },
     "metadata": {},
     "output_type": "display_data"
    },
    {
     "data": {
      "text/plain": [
       "<ggplot: (8726953524523)>"
      ]
     },
     "execution_count": 1,
     "metadata": {},
     "output_type": "execute_result"
    }
   ],
   "source": [
    "from plotnine import *\n",
    "from plotnine_prism import *\n",
    "%run nb_helpers.py\n",
    "\n",
    "# create a base plot to compare colour scales\n",
    "base = (ggplot(mtcars, aes(x = \"wt\", y = \"mpg\")) +\n",
    "  geom_point(aes(colour = \"cyl\", shape = \"cyl\"), size = 3) + \n",
    "  theme_prism() + \n",
    "  theme(legend_position = (0.8, 0.8)))\n",
    "\n",
    "base"
   ]
  },
  {
   "cell_type": "code",
   "execution_count": 2,
   "metadata": {},
   "outputs": [
    {
     "data": {
      "application/vnd.jupyter.widget-view+json": {
       "model_id": "c7714ae559dd446fb5a2e67eead03f39",
       "version_major": 2,
       "version_minor": 0
      },
      "text/plain": [
       "VBox(children=(HBox(children=(Output(), Output())),))"
      ]
     },
     "metadata": {},
     "output_type": "display_data"
    }
   ],
   "source": [
    "# compare manual colour scale with prism colour scale\n",
    "p1 = base + scale_colour_manual(values = (\"blue\", \"red\", \"green\"))\n",
    "p2 = base + scale_colour_prism()\n",
    "\n",
    "plot_grid(p1, p2)"
   ]
  },
  {
   "cell_type": "code",
   "execution_count": 3,
   "metadata": {},
   "outputs": [
    {
     "name": "stdout",
     "output_type": "stream",
     "text": [
      "['autumn_leaves', 'beer_and_ales', 'black_and_white', 'blueprint', 'candy_bright', 'candy_soft', 'colorblind_safe', 'colors', 'diazo', 'earth_tones', 'evergreen', 'fir', 'flames', 'floral', 'greenwash', 'inferno', 'magma', 'mustard_field', 'muted_rainbow', 'neon', 'ocean', 'office', 'pastels', 'pearl', 'plasma', 'prism_dark', 'prism_light', 'purple_passion', 'quiet', 'shades_of_gray', 'spring', 'stained_glass', 'starry', 'summer', 'sunny_garden', 'the_blues', 'viridis', 'warm_and_sunny', 'warm_pastels', 'waves', 'winter_bright', 'winter_soft', 'wool_muffler']\n"
     ]
    }
   ],
   "source": [
    "print(str(list_color_pals()))"
   ]
  },
  {
   "cell_type": "code",
   "execution_count": 4,
   "metadata": {},
   "outputs": [
    {
     "data": {
      "application/vnd.jupyter.widget-view+json": {
       "model_id": "94b3be4b6d214e109cf08cc40bf039eb",
       "version_major": 2,
       "version_minor": 0
      },
      "text/plain": [
       "VBox(children=(HBox(children=(Output(), Output())),))"
      ]
     },
     "metadata": {},
     "output_type": "display_data"
    }
   ],
   "source": [
    "# try out some different colour palettes\n",
    "p1 = base + scale_colour_prism(palette = \"purple_passion\")\n",
    "p2 = base + scale_colour_prism(palette = \"candy_bright\")\n",
    "\n",
    "plot_grid(p1, p2)"
   ]
  },
  {
   "cell_type": "markdown",
   "metadata": {},
   "source": [
    "# Fill scales"
   ]
  },
  {
   "cell_type": "code",
   "execution_count": 5,
   "metadata": {},
   "outputs": [
    {
     "data": {
      "image/png": "[encoded data removed]",
      "text/plain": [
       "<Figure size 400x400 with 1 Axes>"
      ]
     },
     "metadata": {},
     "output_type": "display_data"
    },
    {
     "data": {
      "text/plain": [
       "<ggplot: (8726951134413)>"
      ]
     },
     "execution_count": 5,
     "metadata": {},
     "output_type": "execute_result"
    }
   ],
   "source": [
    "# create a base plot to compare fill scales\n",
    "base = (\n",
    "    ggplot(mtcars, aes(x=\"wt\", y=\"mpg\"))\n",
    "    + geom_point(aes(fill=\"cyl\", shape=\"cyl\"), size=3)\n",
    "    + theme_prism()\n",
    "    + theme(legend_position=(0.8, 0.8))\n",
    "    + scale_shape_prism(palette=\"filled\")\n",
    ")\n",
    "\n",
    "base\n"
   ]
  },
  {
   "cell_type": "code",
   "execution_count": 6,
   "metadata": {},
   "outputs": [
    {
     "data": {
      "application/vnd.jupyter.widget-view+json": {
       "model_id": "c0b04fa6f3a0429094da4c11b7b07976",
       "version_major": 2,
       "version_minor": 0
      },
      "text/plain": [
       "VBox(children=(HBox(children=(Output(), Output())),))"
      ]
     },
     "metadata": {},
     "output_type": "display_data"
    }
   ],
   "source": [
    "# compare manual fill scale with prism fill scale\n",
    "p1 = base + scale_fill_manual(values = (\"blue\", \"red\", \"green\"))\n",
    "p2 = base + scale_fill_prism()\n",
    "\n",
    "plot_grid(p1, p2)"
   ]
  },
  {
   "cell_type": "code",
   "execution_count": 7,
   "metadata": {},
   "outputs": [
    {
     "name": "stdout",
     "output_type": "stream",
     "text": [
      "['autumn_leaves', 'beer_and_ales', 'black_and_white', 'blueprint', 'candy_bright', 'candy_soft', 'colorblind_safe', 'colors', 'diazo', 'earth_tones', 'evergreen', 'fir', 'flames', 'floral', 'greenwash', 'inferno', 'magma', 'mustard_field', 'muted_rainbow', 'neon', 'ocean', 'office', 'pastels', 'pearl', 'plasma', 'prism_dark', 'prism_light', 'purple_passion', 'quiet', 'shades_of_gray', 'spring', 'stained_glass', 'starry', 'summer', 'sunny_garden', 'the_blues', 'viridis', 'warm_and_sunny', 'warm_pastels', 'waves', 'winter_bright', 'winter_soft', 'wool_muffler']\n"
     ]
    }
   ],
   "source": [
    "print(str(list_fill_pals()))"
   ]
  },
  {
   "cell_type": "code",
   "execution_count": 8,
   "metadata": {},
   "outputs": [
    {
     "data": {
      "application/vnd.jupyter.widget-view+json": {
       "model_id": "961d704257064b12917758ddfa754327",
       "version_major": 2,
       "version_minor": 0
      },
      "text/plain": [
       "VBox(children=(HBox(children=(Output(), Output())),))"
      ]
     },
     "metadata": {},
     "output_type": "display_data"
    }
   ],
   "source": [
    "# try out some different fill palettes\n",
    "p1 = base + scale_fill_prism(palette = \"colorblind_safe\")\n",
    "p2 = base + scale_fill_prism(palette = \"neon\")\n",
    "\n",
    "plot_grid(p1, p2)"
   ]
  },
  {
   "cell_type": "markdown",
   "metadata": {},
   "source": [
    "# Shape scales"
   ]
  },
  {
   "cell_type": "code",
   "execution_count": 9,
   "metadata": {},
   "outputs": [
    {
     "data": {
      "text/plain": [
       "['complete', 'default', 'filled']"
      ]
     },
     "execution_count": 9,
     "metadata": {},
     "output_type": "execute_result"
    }
   ],
   "source": [
    "list_shape_pals()"
   ]
  },
  {
   "cell_type": "code",
   "execution_count": 10,
   "metadata": {},
   "outputs": [
    {
     "data": {
      "application/vnd.jupyter.widget-view+json": {
       "model_id": "b9fc438075fb4005afd2faf21b667c61",
       "version_major": 2,
       "version_minor": 0
      },
      "text/plain": [
       "VBox(children=(HBox(children=(Output(), Output(), Output())),))"
      ]
     },
     "metadata": {},
     "output_type": "display_data"
    }
   ],
   "source": [
    "def show_shapes(palette):\n",
    "    import warnings\n",
    "    from datar.base import rep, ceiling, seq\n",
    "    from plotnine_prism.pal import prism_shape_pal\n",
    "    warnings.simplefilter('ignore')\n",
    "\n",
    "    pal = prism_shape_pal(palette)(100)\n",
    "    ncol = 4\n",
    "    nrow = int(ceiling(len(pal) / 4.0))\n",
    "    df = tibble(\n",
    "        x=rep(seq(ncol), nrow)[: len(pal)],\n",
    "        y_shape=rep([1, 3, 5, 7], each=ncol)[: len(pal)],\n",
    "        y_label=rep([2, 4, 6, 8], each=ncol)[: len(pal)],\n",
    "        shape=pal,\n",
    "    )\n",
    "\n",
    "    return (\n",
    "        ggplot(df, aes(x=\"x\"))\n",
    "        + geom_point(aes(y=\"y_shape\", shape=\"shape\"), size=5)\n",
    "        + scale_shape_identity() \n",
    "        + geom_text(aes(y=\"y_label\", label=\"shape\"))\n",
    "        + theme_void()\n",
    "        + theme(\n",
    "            panel_background=element_rect(fill=\"gray\"), \n",
    "            legend_position=\"none\",\n",
    "        )\n",
    "    )\n",
    "\n",
    "\n",
    "p1 = show_shapes(\"complete\")\n",
    "p2 = show_shapes(\"default\")\n",
    "p3 = show_shapes(\"filled\")\n",
    "\n",
    "plot_grid(p1, p2, p3, ncol=3)\n"
   ]
  },
  {
   "cell_type": "code",
   "execution_count": 11,
   "metadata": {},
   "outputs": [
    {
     "data": {
      "image/png": "[encoded data removed]",
      "text/plain": [
       "<Figure size 400x400 with 1 Axes>"
      ]
     },
     "metadata": {},
     "output_type": "display_data"
    },
    {
     "data": {
      "text/plain": [
       "<ggplot: (8726951248990)>"
      ]
     },
     "execution_count": 11,
     "metadata": {},
     "output_type": "execute_result"
    }
   ],
   "source": [
    "# create a base plot to compare shape scales\n",
    "from datar.datasets import mpg\n",
    "\n",
    "base = (\n",
    "    ggplot(mpg, aes(x=\"displ\", y=\"cty\"))\n",
    "    + geom_point(aes(colour=\"class\", fill=\"class\", shape=\"class\"))\n",
    "    + theme_prism(base_size=11, base_fontface=\"plain\", border=True)\n",
    "    + theme(\n",
    "        legend_position=(0.75, 0.7),\n",
    "        legend_key_height=8,\n",
    "    )\n",
    "    + coord_cartesian()\n",
    "    + scale_colour_prism(palette=\"floral\")\n",
    "    + scale_fill_prism(palette=\"floral\")\n",
    ")\n",
    "\n",
    "base\n"
   ]
  },
  {
   "cell_type": "code",
   "execution_count": 12,
   "metadata": {},
   "outputs": [
    {
     "data": {
      "application/vnd.jupyter.widget-view+json": {
       "model_id": "c65bfff7d4d44aeaa494e3e20461ce25",
       "version_major": 2,
       "version_minor": 0
      },
      "text/plain": [
       "VBox(children=(HBox(children=(Output(), Output())), HBox(children=(Output(), Output()))))"
      ]
     },
     "metadata": {},
     "output_type": "display_data"
    }
   ],
   "source": [
    "# compare shape scales\n",
    "p1 = base\n",
    "p2 = base + scale_shape_prism(palette=\"default\") + labs(subtitle=\"default\")\n",
    "p3 = base + scale_shape_prism(palette=\"filled\") + labs(subtitle=\"filled\")\n",
    "p4 = base + scale_shape_prism(palette=\"complete\") + labs(subtitle=\"complete\")\n",
    "\n",
    "plot_grid(p1, p2, p3, p4, ncol=2)\n"
   ]
  }
 ],
 "metadata": {
  "interpreter": {
   "hash": "c4cc73b080e063fcebb9afb794613be7caf4b26129562cba1382945a18cc49cc"
  },
  "kernelspec": {
   "display_name": "Python 3.7.8 64-bit ('base': conda)",
   "name": "python3"
  },
  "language_info": {
   "codemirror_mode": {
    "name": "ipython",
    "version": 3
   },
   "file_extension": ".py",
   "mimetype": "text/x-python",
   "name": "python",
   "nbconvert_exporter": "python",
   "pygments_lexer": "ipython3",
   "version": "3.9.5"
  },
  "orig_nbformat": 4
 },
 "nbformat": 4,
 "nbformat_minor": 2
}
