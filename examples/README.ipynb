{
 "cells": [
  {
   "cell_type": "code",
   "execution_count": 1,
   "metadata": {},
   "outputs": [],
   "source": [
    "from plotnine import *\n",
    "from plotnine_prism import *\n",
    "\n",
    "%run nb_helpers.py"
   ]
  },
  {
   "cell_type": "code",
   "execution_count": 2,
   "metadata": {},
   "outputs": [],
   "source": [
    "base = (\n",
    "    ggplot(ToothGrowth, aes(x = \"dose\", y = \"len\")) + \n",
    "    geom_violin(aes(colour = \"dose\", fill = \"dose\"), trim = False) + \n",
    "    geom_boxplot(aes(fill = \"dose\"), width = 0.2, colour = \"black\") \n",
    ")"
   ]
  },
  {
   "cell_type": "code",
   "execution_count": 3,
   "metadata": {},
   "outputs": [
    {
     "data": {
      "application/vnd.jupyter.widget-view+json": {
       "model_id": "8033aa81ec0547f58a52a5ecf7055bc5",
       "version_major": 2,
       "version_minor": 0
      },
      "text/plain": [
       "VBox(children=(HBox(children=(Output(), Output())),))"
      ]
     },
     "metadata": {},
     "output_type": "display_data"
    }
   ],
   "source": [
    "p1 = base + ylim(-5, 40)\n",
    "p2 = (\n",
    "    base + \n",
    "    scale_y_continuous(limits=[-5, 40], guide=guide_prism_offset_minor()) +\n",
    "    scale_color_prism('floral') +\n",
    "    scale_fill_prism('floral') +\n",
    "    theme_prism() \n",
    ")\n",
    "plot_grid(p1, p2)"
   ]
  }
 ],
 "metadata": {
  "interpreter": {
   "hash": "c4cc73b080e063fcebb9afb794613be7caf4b26129562cba1382945a18cc49cc"
  },
  "kernelspec": {
   "display_name": "Python 3 (ipykernel)",
   "language": "python",
   "name": "python3"
  },
  "language_info": {
   "codemirror_mode": {
    "name": "ipython",
    "version": 3
   },
   "file_extension": ".py",
   "mimetype": "text/x-python",
   "name": "python",
   "nbconvert_exporter": "python",
   "pygments_lexer": "ipython3",
   "version": "3.7.8"
  }
 },
 "nbformat": 4,
 "nbformat_minor": 4
}
