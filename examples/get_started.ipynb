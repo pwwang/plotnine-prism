{
    "cells": [
        {
            "cell_type": "code",
            "execution_count": 1,
            "source": [
                "import numpy\n",
                "from plotnine import *\n",
                "from plotnine_prism import *\n",
                "\n",
                "%run nb_helpers.py"
            ],
            "outputs": [],
            "metadata": {}
        },
        {
            "cell_type": "code",
            "execution_count": 2,
            "source": [
                "# compare theme_grey() to theme_prism()\n",
                "p1 = (\n",
                "    ggplot(ToothGrowth, aes(x=\"dose\", y=\"len\"))\n",
                "    + stat_summary(\n",
                "        aes(fill=\"dose\"),\n",
                "        na_rm=True,\n",
                "        geom=\"col\",\n",
                "        fun_y=numpy.mean,\n",
                "        colour=\"black\",\n",
                "        size=0.9,\n",
                "    )\n",
                "    + scale_y_continuous(limits=[0, 30], expand=[0, 0])\n",
                ")\n",
                "\n",
                "p2 = p1 + theme_prism(base_size=12)\n",
                "\n",
                "plot_grid(p1, p2)\n"
            ],
            "outputs": [
                {
                    "output_type": "display_data",
                    "data": {
                        "text/plain": [
                            "VBox(children=(HBox(children=(Output(), Output())),))"
                        ],
                        "application/vnd.jupyter.widget-view+json": {
                            "version_major": 2,
                            "version_minor": 0,
                            "model_id": "5d678fba92c9434fbf66c6fb92347e87"
                        }
                    },
                    "metadata": {}
                }
            ],
            "metadata": {}
        },
        {
            "cell_type": "code",
            "execution_count": 3,
            "source": [
                "# compare some of the available theme palettes\n",
                "p3 = p1 + theme_prism(palette=\"mustard_field\", base_size=12)\n",
                "p4 = p1 + theme_prism(palette=\"flames\", base_size=12)\n",
                "\n",
                "plot_grid(p3, p4)\n"
            ],
            "outputs": [
                {
                    "output_type": "display_data",
                    "data": {
                        "text/plain": [
                            "VBox(children=(HBox(children=(Output(), Output())),))"
                        ],
                        "application/vnd.jupyter.widget-view+json": {
                            "version_major": 2,
                            "version_minor": 0,
                            "model_id": "15f1b14b18d1466e8ecf4d15a4ea99c0"
                        }
                    },
                    "metadata": {}
                }
            ],
            "metadata": {}
        },
        {
            "cell_type": "code",
            "execution_count": 4,
            "source": [
                "# compare some colour and fill palettes with default theme_prism()\n",
                "p = (\n",
                "    ggplot(ToothGrowth, aes(x=\"supp\", y=\"len\"))\n",
                "    + geom_boxplot(aes(colour=\"supp\", fill=\"supp\"))\n",
                "    + theme_prism(base_size=12)\n",
                ")\n",
                "\n",
                "p1 = (\n",
                "    p\n",
                "    + scale_colour_prism(palette=\"floral\")\n",
                "    + scale_fill_prism(palette=\"floral\")\n",
                ")\n",
                "\n",
                "p2 = (\n",
                "    p\n",
                "    + scale_colour_prism(palette=\"flames\")\n",
                "    + scale_fill_prism(palette=\"flames\")\n",
                ")\n",
                "\n",
                "plot_grid(p1, p2)\n"
            ],
            "outputs": [
                {
                    "output_type": "display_data",
                    "data": {
                        "text/plain": [
                            "VBox(children=(HBox(children=(Output(), Output())),))"
                        ],
                        "application/vnd.jupyter.widget-view+json": {
                            "version_major": 2,
                            "version_minor": 0,
                            "model_id": "54f127a0764a48e782dc16948509dd56"
                        }
                    },
                    "metadata": {}
                }
            ],
            "metadata": {}
        },
        {
            "cell_type": "code",
            "execution_count": 5,
            "source": [
                "# try using the same palette for colour, fill, and theme\n",
                "p = ggplot(ToothGrowth, aes(x=\"supp\", y=\"len\")) + geom_boxplot(\n",
                "    aes(colour=\"supp\", fill=\"supp\")\n",
                ")\n",
                "\n",
                "p3 = (\n",
                "    p\n",
                "    + theme_prism(palette=\"candy_bright\")\n",
                "    + scale_colour_prism(palette=\"candy_bright\")\n",
                "    + scale_fill_prism(palette=\"candy_bright\")\n",
                ")\n",
                "\n",
                "p4 = (\n",
                "    p\n",
                "    + theme_prism(palette=\"neon\")\n",
                "    + scale_colour_prism(palette=\"neon\")\n",
                "    + scale_fill_prism(palette=\"neon\")\n",
                ")\n",
                "\n",
                "plot_grid(p3, p4)\n"
            ],
            "outputs": [
                {
                    "output_type": "display_data",
                    "data": {
                        "text/plain": [
                            "VBox(children=(HBox(children=(Output(), Output())),))"
                        ],
                        "application/vnd.jupyter.widget-view+json": {
                            "version_major": 2,
                            "version_minor": 0,
                            "model_id": "095f2f025c3b49af9a044c0370520b9d"
                        }
                    },
                    "metadata": {}
                }
            ],
            "metadata": {}
        },
        {
            "cell_type": "code",
            "execution_count": 6,
            "source": [
                "# compare ggplot2 default shape order with ggprism default shape order\n",
                "p1 = (\n",
                "    ggplot(msleep, aes(x = \"sleep_rem\", y = \"sleep_total\")) + \n",
                "    geom_point(aes(shape = \"vore\"), size = 3) + \n",
                "    theme_prism() + \n",
                "    theme(axis_title_y = element_blank())\n",
                ")\n",
                "\n",
                "p2 = p1 + scale_shape_prism()\n",
                "\n",
                "plot_grid(p1, p2)"
            ],
            "outputs": [
                {
                    "output_type": "display_data",
                    "data": {
                        "text/plain": [
                            "VBox(children=(HBox(children=(Output(), Output())),))"
                        ],
                        "application/vnd.jupyter.widget-view+json": {
                            "version_major": 2,
                            "version_minor": 0,
                            "model_id": "39cfb32651a94ac595de267f65dc664f"
                        }
                    },
                    "metadata": {}
                }
            ],
            "metadata": {}
        },
        {
            "cell_type": "code",
            "execution_count": 10,
            "source": [
                "# show the 4 different axis guides included in plotnine_prism\n",
                "p = (\n",
                "    ggplot(ToothGrowth, aes(x=\"dose\", y=\"len\"))\n",
                "    + geom_jitter(aes(shape=\"dose\"), width=0.2, size=2)\n",
                "    + scale_shape_prism()\n",
                "    + theme_prism()\n",
                "    # + theme(legend_position=\"none\")\n",
                ")\n",
                "\n",
                "p1 = p + scale_y_continuous(limits=[0, 40], guide=guide_prism())\n",
                "p2 = p + scale_y_continuous(limits=[0, 40], guide=guide_prism_minor())\n",
                "p3 = p + scale_y_continuous(limits=[0, 40], guide=guide_prism_offset())\n",
                "p4 = p + scale_y_continuous(limits=[0, 40], guide=guide_prism_offset_minor())\n",
                "\n",
                "plot_grid(p1, p2, p3, p4)\n"
            ],
            "outputs": [
                {
                    "output_type": "display_data",
                    "data": {
                        "text/plain": [
                            "VBox(children=(HBox(children=(Output(), Output())), HBox(children=(Output(), Output()))))"
                        ],
                        "application/vnd.jupyter.widget-view+json": {
                            "version_major": 2,
                            "version_minor": 0,
                            "model_id": "7a46cde869374814a30fd30cc8544b9c"
                        }
                    },
                    "metadata": {}
                }
            ],
            "metadata": {}
        }
    ],
    "metadata": {
        "orig_nbformat": 4,
        "language_info": {
            "name": "python",
            "version": "3.7.8",
            "mimetype": "text/x-python",
            "codemirror_mode": {
                "name": "ipython",
                "version": 3
            },
            "pygments_lexer": "ipython3",
            "nbconvert_exporter": "python",
            "file_extension": ".py"
        },
        "kernelspec": {
            "name": "python3",
            "display_name": "Python 3.7.8 64-bit ('base': conda)"
        },
        "interpreter": {
            "hash": "c4cc73b080e063fcebb9afb794613be7caf4b26129562cba1382945a18cc49cc"
        }
    },
    "nbformat": 4,
    "nbformat_minor": 2
}