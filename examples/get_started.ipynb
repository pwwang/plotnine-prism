{
 "cells": [
  {
   "cell_type": "code",
   "execution_count": 1,
   "metadata": {},
   "outputs": [],
   "source": [
    "import numpy\n",
    "from plotnine import *\n",
    "from plotnine_prism import *\n",
    "\n",
    "%run nb_helpers.py"
   ]
  },
  {
   "cell_type": "code",
   "execution_count": 2,
   "metadata": {},
   "outputs": [
    {
     "data": {
      "application/vnd.jupyter.widget-view+json": {
       "model_id": "fb2716513b304b7f85f3d1653cf91906",
       "version_major": 2,
       "version_minor": 0
      },
      "text/plain": [
       "VBox(children=(HBox(children=(Output(), Output())),))"
      ]
     },
     "metadata": {},
     "output_type": "display_data"
    }
   ],
   "source": [
    "# compare theme_grey() to theme_prism()\n",
    "p1 = (\n",
    "    ggplot(ToothGrowth, aes(x=\"dose\", y=\"len\"))\n",
    "    + stat_summary(\n",
    "        aes(fill=\"dose\"),\n",
    "        na_rm=True,\n",
    "        geom=\"col\",\n",
    "        fun_y=numpy.mean,\n",
    "        colour=\"black\",\n",
    "        size=0.9,\n",
    "    )\n",
    "    + scale_y_continuous(limits=[0, 30], expand=[0, 0])\n",
    ")\n",
    "\n",
    "p2 = p1 + theme_prism(base_size=12)\n",
    "\n",
    "plot_grid(p1, p2)\n"
   ]
  },
  {
   "cell_type": "code",
   "execution_count": 3,
   "metadata": {},
   "outputs": [
    {
     "data": {
      "application/vnd.jupyter.widget-view+json": {
       "model_id": "1ab504d7140e4ff2b0391b0f1807c47c",
       "version_major": 2,
       "version_minor": 0
      },
      "text/plain": [
       "VBox(children=(HBox(children=(Output(), Output())),))"
      ]
     },
     "metadata": {},
     "output_type": "display_data"
    }
   ],
   "source": [
    "# compare some of the available theme palettes\n",
    "p3 = p1 + theme_prism(palette=\"mustard_field\", base_size=12)\n",
    "p4 = p1 + theme_prism(palette=\"flames\", base_size=12)\n",
    "\n",
    "plot_grid(p3, p4)\n"
   ]
  },
  {
   "cell_type": "code",
   "execution_count": 4,
   "metadata": {},
   "outputs": [
    {
     "data": {
      "application/vnd.jupyter.widget-view+json": {
       "model_id": "cae4417416b6415794aa0487a07b121d",
       "version_major": 2,
       "version_minor": 0
      },
      "text/plain": [
       "VBox(children=(HBox(children=(Output(), Output())),))"
      ]
     },
     "metadata": {},
     "output_type": "display_data"
    }
   ],
   "source": [
    "# compare some colour and fill palettes with default theme_prism()\n",
    "p = (\n",
    "    ggplot(ToothGrowth, aes(x=\"supp\", y=\"len\"))\n",
    "    + geom_boxplot(aes(colour=\"supp\", fill=\"supp\"))\n",
    "    + theme_prism(base_size=12)\n",
    ")\n",
    "\n",
    "p1 = (\n",
    "    p\n",
    "    + scale_colour_prism(palette=\"floral\")\n",
    "    + scale_fill_prism(palette=\"floral\")\n",
    ")\n",
    "\n",
    "p2 = (\n",
    "    p\n",
    "    + scale_colour_prism(palette=\"flames\")\n",
    "    + scale_fill_prism(palette=\"flames\")\n",
    ")\n",
    "\n",
    "plot_grid(p1, p2)\n"
   ]
  },
  {
   "cell_type": "code",
   "execution_count": 5,
   "metadata": {},
   "outputs": [
    {
     "data": {
      "application/vnd.jupyter.widget-view+json": {
       "model_id": "f0c49a2a852e431098a2e223fc3b4d09",
       "version_major": 2,
       "version_minor": 0
      },
      "text/plain": [
       "VBox(children=(HBox(children=(Output(), Output())),))"
      ]
     },
     "metadata": {},
     "output_type": "display_data"
    }
   ],
   "source": [
    "# try using the same palette for colour, fill, and theme\n",
    "p = ggplot(ToothGrowth, aes(x=\"supp\", y=\"len\")) + geom_boxplot(\n",
    "    aes(colour=\"supp\", fill=\"supp\")\n",
    ")\n",
    "\n",
    "p3 = (\n",
    "    p\n",
    "    + theme_prism(palette=\"candy_bright\")\n",
    "    + scale_colour_prism(palette=\"candy_bright\")\n",
    "    + scale_fill_prism(palette=\"candy_bright\")\n",
    ")\n",
    "\n",
    "p4 = (\n",
    "    p\n",
    "    + theme_prism(palette=\"neon\")\n",
    "    + scale_colour_prism(palette=\"neon\")\n",
    "    + scale_fill_prism(palette=\"neon\")\n",
    ")\n",
    "\n",
    "plot_grid(p3, p4)\n"
   ]
  },
  {
   "cell_type": "code",
   "execution_count": 6,
   "metadata": {},
   "outputs": [
    {
     "data": {
      "application/vnd.jupyter.widget-view+json": {
       "model_id": "f05913415c31490e8091c24692aacc6a",
       "version_major": 2,
       "version_minor": 0
      },
      "text/plain": [
       "VBox(children=(HBox(children=(Output(), Output())),))"
      ]
     },
     "metadata": {},
     "output_type": "display_data"
    }
   ],
   "source": [
    "# compare ggplot2 default shape order with ggprism default shape order\n",
    "p1 = (\n",
    "    ggplot(msleep, aes(x = \"sleep_rem\", y = \"sleep_total\")) + \n",
    "    geom_point(aes(shape = \"vore\"), size = 3) + \n",
    "    theme_prism() + \n",
    "    theme(axis_title_y = element_blank())\n",
    ")\n",
    "\n",
    "p2 = p1 + scale_shape_prism()\n",
    "\n",
    "plot_grid(p1, p2)"
   ]
  },
  {
   "cell_type": "code",
   "execution_count": 7,
   "metadata": {},
   "outputs": [
    {
     "data": {
      "application/vnd.jupyter.widget-view+json": {
       "model_id": "a9e04a95080249988ddb572a6f5ac47e",
       "version_major": 2,
       "version_minor": 0
      },
      "text/plain": [
       "VBox(children=(HBox(children=(Output(), Output())), HBox(children=(Output(), Output()))))"
      ]
     },
     "metadata": {},
     "output_type": "display_data"
    }
   ],
   "source": [
    "# show the 4 different axis guides included in plotnine_prism\n",
    "p = (\n",
    "    ggplot(ToothGrowth, aes(x=\"dose\", y=\"len\"))\n",
    "    + geom_jitter(aes(shape=\"dose\"), width=0.2, size=2)\n",
    "    + scale_shape_prism()\n",
    "    + theme_prism()\n",
    "    # + theme(legend_position=\"none\")\n",
    ")\n",
    "\n",
    "p1 = p + scale_y_continuous(limits=[0, 40], guide=guide_prism())\n",
    "p2 = p + scale_y_continuous(limits=[0, 40], guide=guide_prism_minor())\n",
    "p3 = p + scale_y_continuous(limits=[0, 40], guide=guide_prism_offset())\n",
    "p4 = p + scale_y_continuous(limits=[0, 40], guide=guide_prism_offset_minor())\n",
    "\n",
    "plot_grid(p1, p2, p3, p4)\n"
   ]
  }
 ],
 "metadata": {
  "interpreter": {
   "hash": "c4cc73b080e063fcebb9afb794613be7caf4b26129562cba1382945a18cc49cc"
  },
  "kernelspec": {
   "display_name": "Python 3 (ipykernel)",
   "language": "python",
   "name": "python3"
  },
  "language_info": {
   "codemirror_mode": {
    "name": "ipython",
    "version": 3
   },
   "file_extension": ".py",
   "mimetype": "text/x-python",
   "name": "python",
   "nbconvert_exporter": "python",
   "pygments_lexer": "ipython3",
   "version": "3.7.8"
  }
 },
 "nbformat": 4,
 "nbformat_minor": 4
}
