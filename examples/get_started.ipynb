{
    "cells": [
        {
            "cell_type": "code",
            "execution_count": 11,
            "source": [
                "import numpy\n",
                "from plotnine_prism import *\n",
                "from plotnine import *\n",
                "\n",
                "%run nb_helpers.py"
            ],
            "outputs": [],
            "metadata": {}
        },
        {
            "cell_type": "code",
            "execution_count": 12,
            "source": [
                "# compare theme_grey() to theme_prism()\n",
                "p1 = (\n",
                "    ggplot(ToothGrowth, aes(x = \"dose\", y = \"len\")) + \n",
                "    stat_summary(\n",
                "        aes(fill = \"dose\"), na_rm = True,\n",
                "        geom = \"col\", \n",
                "        fun_y = numpy.mean, \n",
                "        colour = \"black\", \n",
                "        size = 0.9\n",
                "    ) + \n",
                "    scale_y_continuous(limits = [0, 30], expand = [0, 0])\n",
                ")\n",
                "\n",
                "p2 = p1 + theme_prism(base_size = 12)\n",
                "\n",
                "plot_grid(p1, p2)"
            ],
            "outputs": [
                {
                    "output_type": "display_data",
                    "data": {
                        "text/plain": [
                            "VBox(children=(HBox(children=(Output(), Output())),))"
                        ],
                        "application/vnd.jupyter.widget-view+json": {
                            "version_major": 2,
                            "version_minor": 0,
                            "model_id": "6681215bfc9f4f9abcd89ee4f01781cf"
                        }
                    },
                    "metadata": {}
                }
            ],
            "metadata": {}
        },
        {
            "cell_type": "code",
            "execution_count": 18,
            "source": [
                "# compare some of the available theme palettes\n",
                "p3 = p1 + theme_prism(palette = \"mustard_field\", base_size = 12)\n",
                "p4 = p1 + theme_prism(palette = \"flames\", base_size = 12)\n",
                "\n",
                "plot_grid(p3, p4)"
            ],
            "outputs": [
                {
                    "output_type": "display_data",
                    "data": {
                        "text/plain": [
                            "VBox(children=(HBox(children=(Output(), Output())),))"
                        ],
                        "application/vnd.jupyter.widget-view+json": {
                            "version_major": 2,
                            "version_minor": 0,
                            "model_id": "30ed86836d2044b496a6c80bf78b526e"
                        }
                    },
                    "metadata": {}
                }
            ],
            "metadata": {}
        },
        {
            "cell_type": "code",
            "execution_count": 10,
            "source": [
                "theme"
            ],
            "outputs": [
                {
                    "output_type": "execute_result",
                    "data": {
                        "text/plain": [
                            "<module 'plotnine_prism.theme' from '/home/pwwang/github/plotnine-prism/plotnine_prism/theme.py'>"
                        ]
                    },
                    "metadata": {},
                    "execution_count": 10
                }
            ],
            "metadata": {}
        },
        {
            "cell_type": "code",
            "execution_count": 4,
            "source": [
                "# compare some colour and fill palettes with default theme_prism()\n",
                "p = (\n",
                "    ggplot(ToothGrowth, aes(x = \"supp\", y = \"len\")) + \n",
                "    geom_boxplot(aes(colour = \"supp\", fill = \"supp\")) + \n",
                "    theme_prism(base_size = 12)\n",
                ")\n",
                "\n",
                "p1 = (\n",
                "    p + \n",
                "    scale_colour_prism(palette = \"floral\") + \n",
                "    scale_fill_prism(palette = \"floral\")\n",
                ")\n",
                "\n",
                "p2 = (\n",
                "    p + \n",
                "    scale_colour_prism(palette = \"flames\") + \n",
                "    scale_fill_prism(palette = \"flames\")\n",
                ")\n",
                "\n",
                "plot_grid(p1, p2)"
            ],
            "outputs": [
                {
                    "output_type": "display_data",
                    "data": {
                        "text/plain": [
                            "VBox(children=(HBox(children=(Output(), Output())),))"
                        ],
                        "application/vnd.jupyter.widget-view+json": {
                            "version_major": 2,
                            "version_minor": 0,
                            "model_id": "fe59f6447db841e79a4e5fa07f707781"
                        }
                    },
                    "metadata": {}
                }
            ],
            "metadata": {}
        },
        {
            "cell_type": "code",
            "execution_count": 5,
            "source": [
                "# try using the same palette for colour, fill, and theme\n",
                "p = (\n",
                "    ggplot(ToothGrowth, aes(x = \"supp\", y = \"len\")) + \n",
                "    geom_boxplot(aes(colour = \"supp\", fill = \"supp\"))\n",
                ")\n",
                "\n",
                "p3 = (\n",
                "    p + \n",
                "    theme_prism(palette = \"candy_bright\") + \n",
                "    scale_colour_prism(palette = \"candy_bright\") + \n",
                "    scale_fill_prism(palette = \"candy_bright\")\n",
                ")\n",
                "\n",
                "p4 = (\n",
                "    p + \n",
                "    theme_prism(palette = \"neon\") + \n",
                "    scale_colour_prism(palette = \"neon\") + \n",
                "    scale_fill_prism(palette = \"neon\")\n",
                ")\n",
                "\n",
                "plot_grid(p3, p4)"
            ],
            "outputs": [
                {
                    "output_type": "display_data",
                    "data": {
                        "text/plain": [
                            "VBox(children=(HBox(children=(Output(), Output())),))"
                        ],
                        "application/vnd.jupyter.widget-view+json": {
                            "version_major": 2,
                            "version_minor": 0,
                            "model_id": "2359b4272f164422ad2f421e82659da0"
                        }
                    },
                    "metadata": {}
                }
            ],
            "metadata": {}
        },
        {
            "cell_type": "code",
            "execution_count": 6,
            "source": [
                "# # compare ggplot2 default shape order with ggprism default shape order\n",
                "# p1 <- ggplot(msleep[complete.cases(msleep), ], \n",
                "#              aes(x = sleep_rem, y = sleep_total)) + \n",
                "#   geom_point(aes(shape = factor(vore)), size = 3) + \n",
                "#   theme_prism() + \n",
                "#   theme(axis.title.y = element_blank())\n",
                "\n",
                "# p2 <- p1 + scale_shape_prism()\n",
                "\n",
                "# p1 + p2"
            ],
            "outputs": [
                {
                    "output_type": "error",
                    "ename": "SyntaxError",
                    "evalue": "invalid syntax (<ipython-input-6-f9fd7d5546c6>, line 3)",
                    "traceback": [
                        "\u001b[0;36m  File \u001b[0;32m\"<ipython-input-6-f9fd7d5546c6>\"\u001b[0;36m, line \u001b[0;32m3\u001b[0m\n\u001b[0;31m    aes(x = sleep_rem, y = sleep_total)) +\u001b[0m\n\u001b[0m                                           ^\u001b[0m\n\u001b[0;31mSyntaxError\u001b[0m\u001b[0;31m:\u001b[0m invalid syntax\n"
                    ]
                }
            ],
            "metadata": {}
        }
    ],
    "metadata": {
        "orig_nbformat": 4,
        "language_info": {
            "name": "python",
            "version": "3.7.8",
            "mimetype": "text/x-python",
            "codemirror_mode": {
                "name": "ipython",
                "version": 3
            },
            "pygments_lexer": "ipython3",
            "nbconvert_exporter": "python",
            "file_extension": ".py"
        },
        "kernelspec": {
            "name": "python3",
            "display_name": "Python 3.7.8 64-bit ('base': conda)"
        },
        "interpreter": {
            "hash": "c4cc73b080e063fcebb9afb794613be7caf4b26129562cba1382945a18cc49cc"
        }
    },
    "nbformat": 4,
    "nbformat_minor": 2
}