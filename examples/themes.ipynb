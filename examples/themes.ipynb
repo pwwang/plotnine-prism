{
 "cells": [
  {
   "cell_type": "code",
   "execution_count": 1,
   "metadata": {},
   "outputs": [
    {
     "name": "stderr",
     "output_type": "stream",
     "text": [
      "[2022-05-12 21:16:17][datar][WARNING] Package `pdtypes` not installed for `options(enable_pdtypes=True)`\n"
     ]
    },
    {
     "data": {
      "image/png": "[encoded data removed]",
      "text/plain": [
       "<Figure size 432x288 with 1 Axes>"
      ]
     },
     "metadata": {},
     "output_type": "display_data"
    },
    {
     "data": {
      "text/plain": [
       "<ggplot: (8746339913352)>"
      ]
     },
     "execution_count": 1,
     "metadata": {},
     "output_type": "execute_result"
    }
   ],
   "source": [
    "from datar.datasets import mpg\n",
    "from plotnine import *\n",
    "from plotnine_prism import *\n",
    "\n",
    "%run nb_helpers.py\n",
    "\n",
    "base = ggplot(mpg, aes(x=\"displ\", y=\"cty\")) + geom_point(aes(colour=\"class\"))\n",
    "\n",
    "base"
   ]
  },
  {
   "cell_type": "code",
   "execution_count": 2,
   "metadata": {},
   "outputs": [
    {
     "data": {
      "application/vnd.jupyter.widget-view+json": {
       "model_id": "ccdec5a726714395ae608f3769992e25",
       "version_major": 2,
       "version_minor": 0
      },
      "text/plain": [
       "VBox(children=(HBox(children=(Output(), Output())),))"
      ]
     },
     "metadata": {},
     "output_type": "display_data"
    }
   ],
   "source": [
    "# apply default theme\n",
    "p1 = (\n",
    "    base\n",
    "    + theme_prism()\n",
    "    + theme(\n",
    "        legend_position=(0.8, 0.7),\n",
    "        legend_key_height=10,\n",
    "    )\n",
    ")\n",
    "p2 = (\n",
    "    base\n",
    "    + theme_prism()\n",
    "    + theme(\n",
    "        legend_position=(0.8, 0.7),\n",
    "        legend_key_height=10,\n",
    "        legend_title=element_text(margin={'b': 8}),\n",
    "    )\n",
    ")\n",
    "\n",
    "plot_grid(p1, p2)\n"
   ]
  },
  {
   "cell_type": "code",
   "execution_count": 3,
   "metadata": {},
   "outputs": [
    {
     "data": {
      "application/vnd.jupyter.widget-view+json": {
       "model_id": "535c2893ba104c198d99e21028faba16",
       "version_major": 2,
       "version_minor": 0
      },
      "text/plain": [
       "VBox(children=(HBox(children=(Output(), Output())),))"
      ]
     },
     "metadata": {},
     "output_type": "display_data"
    }
   ],
   "source": [
    "# redefine base plot without a legend for convenience\n",
    "base = ggplot(mpg, aes(x=\"displ\", y=\"cty\")) + geom_point(\n",
    "    aes(colour=\"class\"), show_legend=False\n",
    ")\n",
    "\n",
    "# adjust overall theme size\n",
    "p1 = base + theme_prism(base_size=10)\n",
    "p2 = base + theme_prism(base_size=16)\n",
    "\n",
    "plot_grid(p1, p2)\n"
   ]
  },
  {
   "cell_type": "code",
   "execution_count": 4,
   "metadata": {},
   "outputs": [
    {
     "data": {
      "application/vnd.jupyter.widget-view+json": {
       "model_id": "57413db8796e4e1383235fbc67c6739a",
       "version_major": 2,
       "version_minor": 0
      },
      "text/plain": [
       "VBox(children=(HBox(children=(Output(), Output())),))"
      ]
     },
     "metadata": {},
     "output_type": "display_data"
    }
   ],
   "source": [
    "# adjust overall theme size with specific line size\n",
    "p1 = base + theme_prism(base_size = 12)\n",
    "p2 = base + theme_prism(base_size = 12, base_line_size = 0.2)\n",
    "\n",
    "plot_grid(p1, p2)"
   ]
  },
  {
   "cell_type": "code",
   "execution_count": 5,
   "metadata": {},
   "outputs": [
    {
     "data": {
      "application/vnd.jupyter.widget-view+json": {
       "model_id": "9cbdc00ff3d84be492c8e2c58a52714c",
       "version_major": 2,
       "version_minor": 0
      },
      "text/plain": [
       "VBox(children=(HBox(children=(Output(), Output())),))"
      ]
     },
     "metadata": {},
     "output_type": "display_data"
    }
   ],
   "source": [
    "# change fontface or font family\n",
    "p1 = base + theme_prism(base_fontface = \"plain\")\n",
    "p2 = base + theme_prism(base_family = \"monospace\")\n",
    "\n",
    "plot_grid(p1, p2)"
   ]
  },
  {
   "cell_type": "code",
   "execution_count": 6,
   "metadata": {},
   "outputs": [
    {
     "data": {
      "application/vnd.jupyter.widget-view+json": {
       "model_id": "d12f314c9771417385afb348b045ca22",
       "version_major": 2,
       "version_minor": 0
      },
      "text/plain": [
       "VBox(children=(HBox(children=(Output(), Output())),))"
      ]
     },
     "metadata": {},
     "output_type": "display_data"
    }
   ],
   "source": [
    "# change x axis text angle\n",
    "p1 = base + theme_prism(axis_text_angle = 45)\n",
    "p2 = base + theme_prism(axis_text_angle = 90)\n",
    "\n",
    "plot_grid(p1, p2)"
   ]
  },
  {
   "cell_type": "code",
   "execution_count": 7,
   "metadata": {},
   "outputs": [
    {
     "data": {
      "application/vnd.jupyter.widget-view+json": {
       "model_id": "91c998979afd47a49e79b58976f6b36e",
       "version_major": 2,
       "version_minor": 0
      },
      "text/plain": [
       "VBox(children=(HBox(children=(Output(), Output())),))"
      ]
     },
     "metadata": {},
     "output_type": "display_data"
    }
   ],
   "source": [
    "# add a border and adjust its thickness\n",
    "p1 = base + theme_prism(border=True) + coord_cartesian()\n",
    "p2 = (\n",
    "    base\n",
    "    + theme_prism(border=True, base_rect_size=4)\n",
    "    + coord_cartesian()  # adjust thickness\n",
    ")\n",
    "\n",
    "plot_grid(p1, p2)\n"
   ]
  },
  {
   "cell_type": "code",
   "execution_count": 8,
   "metadata": {},
   "outputs": [
    {
     "data": {
      "text/plain": [
       "\"['candy_soft', 'fir', 'mustard_field', 'plasma', 'colorblind_safe', 'starry', 'spring', 'neon', 'magma', 'summer', 'winter_bright', 'floral', 'the_blues', 'viridis', 'warm_and_sunny', 'pastels', 'wool_muffler', 'diazo', 'blueprint', 'greenwash', 'winter_soft', 'ocean', 'autumn_leaves', 'prism_dark', 'sunny_garden', 'candy_bright', 'quiet', 'purple_passion', 'prism_light', 'pearl', 'beer_and_ales', 'inferno', 'shades_of_gray', 'earth_tones', 'black_and_white', 'flames', 'office', 'muted_rainbow', 'warm_pastels', 'stained_glass', 'evergreen', 'colors', 'waves']\""
      ]
     },
     "metadata": {},
     "output_type": "display_data"
    }
   ],
   "source": [
    "# Theme palettes\n",
    "\n",
    "display(str(list_themes()))"
   ]
  },
  {
   "cell_type": "code",
   "execution_count": 9,
   "metadata": {},
   "outputs": [
    {
     "data": {
      "application/vnd.jupyter.widget-view+json": {
       "model_id": "86457c6cf77d44f4808283709e32fe37",
       "version_major": 2,
       "version_minor": 0
      },
      "text/plain": [
       "VBox(children=(HBox(children=(Output(), Output())),))"
      ]
     },
     "metadata": {},
     "output_type": "display_data"
    }
   ],
   "source": [
    "# try out some different theme palettes\n",
    "p1 = base + theme_prism(palette = \"purple_passion\")\n",
    "p2 = base + theme_prism(palette = \"candy_bright\")\n",
    "\n",
    "plot_grid(p1, p2)"
   ]
  },
  {
   "cell_type": "code",
   "execution_count": 10,
   "metadata": {},
   "outputs": [
    {
     "data": {
      "application/vnd.jupyter.widget-view+json": {
       "model_id": "30f1ec6ac3694134980c94aceced952d",
       "version_major": 2,
       "version_minor": 0
      },
      "text/plain": [
       "VBox(children=(HBox(children=(Output(), Output())),))"
      ]
     },
     "metadata": {},
     "output_type": "display_data"
    }
   ],
   "source": [
    "# compare two identical theme palettes\n",
    "p1 = base + theme_prism(palette = \"black_and_white\")\n",
    "p2 = base + theme_prism(palette = \"plasma\")\n",
    "\n",
    "plot_grid(p1, p2)"
   ]
  },
  {
   "cell_type": "code",
   "execution_count": 11,
   "metadata": {},
   "outputs": [
    {
     "data": {
      "application/vnd.jupyter.widget-view+json": {
       "model_id": "9e8d718557b14c5cbb1206716332051a",
       "version_major": 2,
       "version_minor": 0
      },
      "text/plain": [
       "VBox(children=(HBox(children=(Output(), Output())),))"
      ]
     },
     "metadata": {},
     "output_type": "display_data"
    }
   ],
   "source": [
    "# try out two more theme palettes and their corresponding colour palettes\n",
    "p1 = base + theme_prism(palette=\"summer\") + scale_colour_prism(palette=\"summer\")\n",
    "p2 = (\n",
    "    base\n",
    "    + theme_prism(palette=\"stained_glass\")\n",
    "    + scale_colour_prism(palette=\"stained_glass\")\n",
    ")\n",
    "\n",
    "plot_grid(p1, p2)\n"
   ]
  },
  {
   "cell_type": "code",
   "execution_count": 12,
   "metadata": {},
   "outputs": [],
   "source": [
    "# Custom a new theme based on \"theme_prism\"\n",
    "\n",
    "def theme_new(\n",
    "    base_size=10,\n",
    "    base_family=\"monospace\",\n",
    "    base_fontface=\"bold\",\n",
    "    base_line_size=None,\n",
    "    base_rect_size=None,\n",
    "    axis_text_angle=0,\n",
    "    border=False,\n",
    "):\n",
    "    return theme_prism(\n",
    "        palette=\"stained_glass\",\n",
    "        base_size=base_size,\n",
    "        base_family=base_family,\n",
    "        base_fontface=base_fontface,\n",
    "        base_line_size=base_line_size,\n",
    "        base_rect_size=base_rect_size,\n",
    "        axis_text_angle=axis_text_angle,\n",
    "        border=border,\n",
    "    ) + theme(\n",
    "        panel_background=element_rect(fill=\"white\", colour=\"None\"),\n",
    "        plot_background=element_rect(fill=\"red\", colour=\"None\"),\n",
    "        axis_line=element_line(colour=\"black\"),\n",
    "        axis_ticks=element_line(colour=\"black\"),\n",
    "    )\n"
   ]
  },
  {
   "cell_type": "code",
   "execution_count": 13,
   "metadata": {},
   "outputs": [
    {
     "data": {
      "application/vnd.jupyter.widget-view+json": {
       "model_id": "664706164c81406bb8d9452094e1fa5e",
       "version_major": 2,
       "version_minor": 0
      },
      "text/plain": [
       "VBox(children=(HBox(children=(Output(), Output())),))"
      ]
     },
     "metadata": {},
     "output_type": "display_data"
    }
   ],
   "source": [
    "# compare theme_prism() and our new theme function\n",
    "p1 = base + theme_prism()\n",
    "p2 = base + theme_new()\n",
    "\n",
    "plot_grid(p1, p2)"
   ]
  }
 ],
 "metadata": {
  "interpreter": {
   "hash": "c4cc73b080e063fcebb9afb794613be7caf4b26129562cba1382945a18cc49cc"
  },
  "kernelspec": {
   "display_name": "Python 3.7.8 64-bit ('base': conda)",
   "name": "python3"
  },
  "language_info": {
   "codemirror_mode": {
    "name": "ipython",
    "version": 3
   },
   "file_extension": ".py",
   "mimetype": "text/x-python",
   "name": "python",
   "nbconvert_exporter": "python",
   "pygments_lexer": "ipython3",
   "version": "3.9.5"
  },
  "orig_nbformat": 4
 },
 "nbformat": 4,
 "nbformat_minor": 2
}
