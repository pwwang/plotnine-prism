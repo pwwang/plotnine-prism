{
 "cells": [
  {
   "cell_type": "code",
   "execution_count": 3,
   "metadata": {},
   "outputs": [
    {
     "name": "stdout",
     "output_type": "stream",
     "text": [
      "The autoreload extension is already loaded. To reload it, use:\n",
      "  %reload_ext autoreload\n"
     ]
    },
    {
     "data": {
      "text/plain": [
       "(6.4, 4.8)"
      ]
     },
     "execution_count": 3,
     "metadata": {},
     "output_type": "execute_result"
    }
   ],
   "source": [
    "%load_ext autoreload\n",
    "%autoreload 2\n",
    "\n",
    "from plotnine import *\n",
    "from plotnine.options import set_option\n",
    "from datar.all import f, as_categorical, mutate\n",
    "from datar.datasets import ToothGrowth\n",
    "\n",
    "from plotnine_prism import theme_prism, scale_color_prism, scale_fill_prism, guide_prism_offset, guide_prism_offset_minor\n",
    "\n",
    "set_option('figure_size', (5,5))\n"
   ]
  },
  {
   "cell_type": "code",
   "execution_count": 4,
   "metadata": {},
   "outputs": [
    {
     "name": "stdout",
     "output_type": "stream",
     "text": [
      "(5, 5)\n"
     ]
    }
   ],
   "source": [
    "\n",
    "tg = ToothGrowth >> mutate(dose=as_categorical(f.dose))\n",
    "\n",
    "base = (\n",
    "    ggplot(tg, aes(x = \"dose\", y = \"len\")) + \n",
    "    geom_violin(aes(colour = \"dose\", fill = \"dose\"), trim = False) + \n",
    "    geom_boxplot(aes(fill = \"dose\"), width = 0.2, colour = \"black\")  \n",
    ")\n",
    "\n",
    "p1 = base + scale_y_continuous(limits=[-5, 40])\n",
    "p2 = (\n",
    "    base + \n",
    "    scale_y_continuous(limits=[-5, 40], guide=guide_prism_offset_minor()) +\n",
    "    scale_color_prism('floral') +\n",
    "    scale_fill_prism('floral') +\n",
    "    theme_prism() \n",
    ")"
   ]
  },
  {
   "cell_type": "code",
   "execution_count": 5,
   "metadata": {},
   "outputs": [
    {
     "data": {
      "application/vnd.jupyter.widget-view+json": {
       "model_id": "6cf1795321af44c1af756e30abcbdd00",
       "version_major": 2,
       "version_minor": 0
      },
      "text/plain": [
       "HBox(children=(Output(), Output()))"
      ]
     },
     "metadata": {},
     "output_type": "display_data"
    }
   ],
   "source": [
    "from ipywidgets import widgets\n",
    "out1 = widgets.Output()\n",
    "out2 = widgets.Output()\n",
    "with out1:\n",
    "    display(p1)\n",
    "with out2:\n",
    "    display(p2)\n",
    "hb = widgets.HBox([out1, out2])\n",
    "# hb.layout.align_items = 'center'\n",
    "# hb.layout.object_position  = 'top'\n",
    "hb"
   ]
  },
  {
   "cell_type": "code",
   "execution_count": null,
   "metadata": {},
   "outputs": [],
   "source": []
  }
 ],
 "metadata": {
  "interpreter": {
   "hash": "c4cc73b080e063fcebb9afb794613be7caf4b26129562cba1382945a18cc49cc"
  },
  "kernelspec": {
   "display_name": "Python 3 (ipykernel)",
   "language": "python",
   "name": "python3"
  },
  "language_info": {
   "codemirror_mode": {
    "name": "ipython",
    "version": 3
   },
   "file_extension": ".py",
   "mimetype": "text/x-python",
   "name": "python",
   "nbconvert_exporter": "python",
   "pygments_lexer": "ipython3",
   "version": "3.7.8"
  }
 },
 "nbformat": 4,
 "nbformat_minor": 4
}
