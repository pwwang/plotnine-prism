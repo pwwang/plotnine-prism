{
 "cells": [
  {
   "cell_type": "code",
   "execution_count": 1,
   "metadata": {},
   "outputs": [
    {
     "name": "stderr",
     "output_type": "stream",
     "text": [
      "[2022-05-12 21:17:05][datar][WARNING] Package `pdtypes` not installed for `options(enable_pdtypes=True)`\n"
     ]
    }
   ],
   "source": [
    "import numpy\n",
    "from plotnine import *\n",
    "from plotnine_prism import *\n",
    "\n",
    "%run nb_helpers.py"
   ]
  },
  {
   "cell_type": "code",
   "execution_count": 2,
   "metadata": {},
   "outputs": [
    {
     "data": {
      "application/vnd.jupyter.widget-view+json": {
       "model_id": "6181f0182a6f4fb1bf48c431440a4ddb",
       "version_major": 2,
       "version_minor": 0
      },
      "text/plain": [
       "VBox(children=(HBox(children=(Output(), Output())),))"
      ]
     },
     "metadata": {},
     "output_type": "display_data"
    }
   ],
   "source": [
    "# compare theme_grey() to theme_prism()\n",
    "p1 = (\n",
    "    ggplot(ToothGrowth, aes(x=\"dose\", y=\"len\"))\n",
    "    + stat_summary(\n",
    "        aes(fill=\"dose\"),\n",
    "        na_rm=True,\n",
    "        geom=\"col\",\n",
    "        fun_y=numpy.mean,\n",
    "        colour=\"black\",\n",
    "        size=0.9,\n",
    "    )\n",
    "    + scale_y_continuous(limits=[0, 30], expand=[0, 0])\n",
    ")\n",
    "\n",
    "p2 = p1 + theme_prism(base_size=12)\n",
    "\n",
    "plot_grid(p1, p2)\n"
   ]
  },
  {
   "cell_type": "code",
   "execution_count": 3,
   "metadata": {},
   "outputs": [
    {
     "data": {
      "application/vnd.jupyter.widget-view+json": {
       "model_id": "3930a41e96874e32a2ce02bffbd0ec30",
       "version_major": 2,
       "version_minor": 0
      },
      "text/plain": [
       "VBox(children=(HBox(children=(Output(), Output())),))"
      ]
     },
     "metadata": {},
     "output_type": "display_data"
    }
   ],
   "source": [
    "# compare some of the available theme palettes\n",
    "p3 = p1 + theme_prism(palette=\"mustard_field\", base_size=12)\n",
    "p4 = p1 + theme_prism(palette=\"flames\", base_size=12)\n",
    "\n",
    "plot_grid(p3, p4)\n"
   ]
  },
  {
   "cell_type": "code",
   "execution_count": 4,
   "metadata": {},
   "outputs": [
    {
     "data": {
      "application/vnd.jupyter.widget-view+json": {
       "model_id": "e681ef4ab50644198a6ba2d302a55565",
       "version_major": 2,
       "version_minor": 0
      },
      "text/plain": [
       "VBox(children=(HBox(children=(Output(), Output())),))"
      ]
     },
     "metadata": {},
     "output_type": "display_data"
    }
   ],
   "source": [
    "# compare some colour and fill palettes with default theme_prism()\n",
    "p = (\n",
    "    ggplot(ToothGrowth, aes(x=\"supp\", y=\"len\"))\n",
    "    + geom_boxplot(aes(colour=\"supp\", fill=\"supp\"))\n",
    "    + theme_prism(base_size=12)\n",
    ")\n",
    "\n",
    "p1 = (\n",
    "    p\n",
    "    + scale_colour_prism(palette=\"floral\")\n",
    "    + scale_fill_prism(palette=\"floral\")\n",
    ")\n",
    "\n",
    "p2 = (\n",
    "    p\n",
    "    + scale_colour_prism(palette=\"flames\")\n",
    "    + scale_fill_prism(palette=\"flames\")\n",
    ")\n",
    "\n",
    "plot_grid(p1, p2)\n"
   ]
  },
  {
   "cell_type": "code",
   "execution_count": 5,
   "metadata": {},
   "outputs": [
    {
     "data": {
      "application/vnd.jupyter.widget-view+json": {
       "model_id": "4fb4335d502942dca0b85b062d70b5ac",
       "version_major": 2,
       "version_minor": 0
      },
      "text/plain": [
       "VBox(children=(HBox(children=(Output(), Output())),))"
      ]
     },
     "metadata": {},
     "output_type": "display_data"
    }
   ],
   "source": [
    "# try using the same palette for colour, fill, and theme\n",
    "p = ggplot(ToothGrowth, aes(x=\"supp\", y=\"len\")) + geom_boxplot(\n",
    "    aes(colour=\"supp\", fill=\"supp\")\n",
    ")\n",
    "\n",
    "p3 = (\n",
    "    p\n",
    "    + theme_prism(palette=\"candy_bright\")\n",
    "    + scale_colour_prism(palette=\"candy_bright\")\n",
    "    + scale_fill_prism(palette=\"candy_bright\")\n",
    ")\n",
    "\n",
    "p4 = (\n",
    "    p\n",
    "    + theme_prism(palette=\"neon\")\n",
    "    + scale_colour_prism(palette=\"neon\")\n",
    "    + scale_fill_prism(palette=\"neon\")\n",
    ")\n",
    "\n",
    "plot_grid(p3, p4)\n"
   ]
  },
  {
   "cell_type": "code",
   "execution_count": 6,
   "metadata": {},
   "outputs": [
    {
     "data": {
      "application/vnd.jupyter.widget-view+json": {
       "model_id": "34177d676e264c33ada4ad1e135766c2",
       "version_major": 2,
       "version_minor": 0
      },
      "text/plain": [
       "VBox(children=(HBox(children=(Output(), Output())),))"
      ]
     },
     "metadata": {},
     "output_type": "display_data"
    }
   ],
   "source": [
    "# compare ggplot2 default shape order with ggprism default shape order\n",
    "p1 = (\n",
    "    ggplot(msleep, aes(x = \"sleep_rem\", y = \"sleep_total\")) + \n",
    "    geom_point(aes(shape = \"vore\"), size = 3) + \n",
    "    theme_prism() + \n",
    "    theme(axis_title_y = element_blank())\n",
    ")\n",
    "\n",
    "p2 = p1 + scale_shape_prism()\n",
    "\n",
    "plot_grid(p1, p2)"
   ]
  },
  {
   "cell_type": "code",
   "execution_count": 7,
   "metadata": {},
   "outputs": [
    {
     "data": {
      "application/vnd.jupyter.widget-view+json": {
       "model_id": "894c9ec82aa446cf8126d329db5a6c48",
       "version_major": 2,
       "version_minor": 0
      },
      "text/plain": [
       "VBox(children=(HBox(children=(Output(), Output())), HBox(children=(Output(), Output()))))"
      ]
     },
     "metadata": {},
     "output_type": "display_data"
    }
   ],
   "source": [
    "# show the 4 different axis guides included in plotnine_prism\n",
    "p = (\n",
    "    ggplot(ToothGrowth, aes(x=\"dose\", y=\"len\"))\n",
    "    + geom_jitter(aes(shape=\"dose\"), width=0.2, size=2)\n",
    "    + scale_shape_prism()\n",
    "    + theme_prism()\n",
    "    # + theme(legend_position=\"none\")\n",
    ")\n",
    "\n",
    "p1 = p + scale_y_continuous(limits=[0, 40], guide=guide_prism())\n",
    "p2 = p + scale_y_continuous(limits=[0, 40], guide=guide_prism_minor())\n",
    "p3 = p + scale_y_continuous(limits=[0, 40], guide=guide_prism_offset())\n",
    "p4 = p + scale_y_continuous(limits=[0, 40], guide=guide_prism_offset_minor())\n",
    "\n",
    "plot_grid(p1, p2, p3, p4)\n"
   ]
  }
 ],
 "metadata": {
  "interpreter": {
   "hash": "c4cc73b080e063fcebb9afb794613be7caf4b26129562cba1382945a18cc49cc"
  },
  "kernelspec": {
   "display_name": "Python 3 (ipykernel)",
   "language": "python",
   "name": "python3"
  },
  "language_info": {
   "codemirror_mode": {
    "name": "ipython",
    "version": 3
   },
   "file_extension": ".py",
   "mimetype": "text/x-python",
   "name": "python",
   "nbconvert_exporter": "python",
   "pygments_lexer": "ipython3",
   "version": "3.9.5"
  }
 },
 "nbformat": 4,
 "nbformat_minor": 4
}
