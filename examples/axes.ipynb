{
 "cells": [
  {
   "cell_type": "code",
   "execution_count": 1,
   "metadata": {},
   "outputs": [
    {
     "name": "stderr",
     "output_type": "stream",
     "text": [
      "[2022-05-12 21:19:00][datar][WARNING] Package `pdtypes` not installed for `options(enable_pdtypes=True)`\n"
     ]
    }
   ],
   "source": [
    "%reload_ext autoreload\n",
    "%autoreload 2\n",
    "from plotnine import *\n",
    "from plotnine_prism import *\n",
    "from datar.base import seq, rep\n",
    "\n",
    "%run nb_helpers.py"
   ]
  },
  {
   "cell_type": "markdown",
   "metadata": {},
   "source": [
    "# Minor ticks"
   ]
  },
  {
   "cell_type": "code",
   "execution_count": 2,
   "metadata": {},
   "outputs": [
    {
     "data": {
      "application/vnd.jupyter.widget-view+json": {
       "model_id": "9885c60f3e4e401fa59c56cca950ecc0",
       "version_major": 2,
       "version_minor": 0
      },
      "text/plain": [
       "VBox(children=(HBox(children=(Output(), Output())),))"
      ]
     },
     "metadata": {},
     "output_type": "display_data"
    }
   ],
   "source": [
    "\n",
    "# Minor ticks are on by default in plotnine\n",
    "\n",
    "p = (\n",
    "    ggplot(ToothGrowth, aes(x=\"supp\", y=\"len\"))\n",
    "    + geom_boxplot(aes(fill=\"supp\"))\n",
    "    + theme_prism()\n",
    "    # guides not working without legend in plotnine\n",
    "    # + theme(legend_position=\"none\")\n",
    ")\n",
    "\n",
    "# to turn it off\n",
    "p1 = p + scale_y_continuous(guide=guide_prism())\n",
    "# to turn it on again\n",
    "p2 = p + scale_y_continuous(guide=guide_prism_minor())\n",
    "\n",
    "plot_grid(p1, p2)"
   ]
  },
  {
   "cell_type": "code",
   "execution_count": 3,
   "metadata": {},
   "outputs": [
    {
     "data": {
      "application/vnd.jupyter.widget-view+json": {
       "model_id": "1972935170c449719c9c3d04993677ae",
       "version_major": 2,
       "version_minor": 0
      },
      "text/plain": [
       "VBox(children=(HBox(children=(Output(), Output())),))"
      ]
     },
     "metadata": {},
     "output_type": "display_data"
    }
   ],
   "source": [
    "# compare 1 minor ticks (default) vs 4 minor ticks per major tick\n",
    "p = (\n",
    "    ggplot(ToothGrowth, aes(x=\"dose\", y=\"len\"))\n",
    "    + stat_summary(\n",
    "        aes(fill=\"dose\"),\n",
    "        na_rm=True,\n",
    "        geom=\"col\",\n",
    "        fun_y=numpy.mean,\n",
    "        colour=\"black\",\n",
    "        size=0.9,\n",
    "    )\n",
    "    + theme_prism()\n",
    ")\n",
    "\n",
    "p1 = p + scale_y_continuous(\n",
    "    guide=guide_prism_minor(),\n",
    "    limits=(0, 30),\n",
    "    expand=(0, 0),\n",
    ")\n",
    "p2 = p + scale_y_continuous(\n",
    "    guide=guide_prism_minor(),\n",
    "    limits=(0, 30),\n",
    "    expand=(0, 0),\n",
    "    minor_breaks=seq(0, 30, 2),\n",
    ")\n",
    "plot_grid(p1, p2)\n"
   ]
  },
  {
   "cell_type": "code",
   "execution_count": 4,
   "metadata": {},
   "outputs": [
    {
     "data": {
      "application/vnd.jupyter.widget-view+json": {
       "model_id": "d906eb28af96402e9308198f061bc8e7",
       "version_major": 2,
       "version_minor": 0
      },
      "text/plain": [
       "VBox(children=(HBox(children=(Output(), Output())),))"
      ]
     },
     "metadata": {},
     "output_type": "display_data"
    }
   ],
   "source": [
    "# log10 minor ticks\n",
    "\n",
    "p = (\n",
    "    ggplot(msleep, aes(\"bodywt\", \"brainwt\"))\n",
    "    + geom_point(na_rm=True)\n",
    "    + theme_prism()\n",
    ")\n",
    "\n",
    "# log10 minor ticks added automatically\n",
    "p1 = p + scale_x_log10(\n",
    "    limits=(1e0, 1e4),\n",
    "    guide=guide_prism_minor(),\n",
    ")\n",
    "# get back to normal minor ticks\n",
    "p2 = p + scale_x_log10(\n",
    "    limits=(1e0, 1e4),\n",
    "    minor_breaks=(10**.5, 10**1.5, 10**2.5, 10**3.5),\n",
    "    guide=guide_prism_minor(),\n",
    ")\n",
    "\n",
    "plot_grid(p1, p2)\n"
   ]
  },
  {
   "cell_type": "code",
   "execution_count": 5,
   "metadata": {},
   "outputs": [
    {
     "data": {
      "application/vnd.jupyter.widget-view+json": {
       "model_id": "8dfb389523b2453bb726312eb024cf0c",
       "version_major": 2,
       "version_minor": 0
      },
      "text/plain": [
       "VBox(children=(HBox(children=(Output(), Output())),))"
      ]
     },
     "metadata": {},
     "output_type": "display_data"
    }
   ],
   "source": [
    "# change minor tick length\n",
    "p = (\n",
    "    ggplot(ToothGrowth, aes(x=\"dose\", y=\"len\"))\n",
    "    + stat_summary(\n",
    "        aes(fill=\"dose\"),\n",
    "        na_rm=True,\n",
    "        geom=\"col\",\n",
    "        fun_y=numpy.mean,\n",
    "        colour=\"black\",\n",
    "        size=0.9,\n",
    "    )\n",
    "    + theme_prism()\n",
    "    + scale_y_continuous(\n",
    "        guide=guide_prism_minor(),\n",
    "        limits=(0, 30),\n",
    "        expand=(0, 0),\n",
    "        minor_breaks=seq(0, 30, 2),\n",
    "    )\n",
    ")\n",
    "\n",
    "p1 = p + theme(legend_position=\"none\")\n",
    "p2 = p + theme(legend_position=\"none\", prism_ticks_length_y=20)\n",
    "\n",
    "plot_grid(p1, p2)\n"
   ]
  },
  {
   "cell_type": "code",
   "execution_count": 6,
   "metadata": {},
   "outputs": [
    {
     "data": {
      "application/vnd.jupyter.widget-view+json": {
       "model_id": "9e1f896c3d9b442fbfc7319c63ca94b7",
       "version_major": 2,
       "version_minor": 0
      },
      "text/plain": [
       "VBox(children=(HBox(children=(Output(), Output())),))"
      ]
     },
     "metadata": {},
     "output_type": "display_data"
    }
   ],
   "source": [
    "# change minor tick length\n",
    "p1 = p + theme(legend_position=\"none\", prism_ticks_length_y=20)\n",
    "p2 = p + theme(legend_position=\"none\", prism_ticks_length_y=-20)\n",
    "\n",
    "plot_grid(p1, p2)"
   ]
  },
  {
   "cell_type": "code",
   "execution_count": 7,
   "metadata": {},
   "outputs": [
    {
     "data": {
      "application/vnd.jupyter.widget-view+json": {
       "model_id": "3ee5468e21be49fb89caee63c8e4108e",
       "version_major": 2,
       "version_minor": 0
      },
      "text/plain": [
       "VBox(children=(HBox(children=(Output(), Output())),))"
      ]
     },
     "metadata": {},
     "output_type": "display_data"
    }
   ],
   "source": [
    "# change how ticks look\n",
    "\n",
    "p1 = p + theme(legend_position=\"none\")\n",
    "p2 = p + theme(\n",
    "    legend_position=\"none\",\n",
    "    axis_ticks_y=element_line(size=6),\n",
    ")\n",
    "\n",
    "plot_grid(p1, p2)\n"
   ]
  },
  {
   "cell_type": "markdown",
   "metadata": {},
   "source": [
    "# Offset axis"
   ]
  },
  {
   "cell_type": "code",
   "execution_count": 8,
   "metadata": {},
   "outputs": [
    {
     "data": {
      "image/png": "[encoded data removed]",
      "text/plain": [
       "<Figure size 400x400 with 1 Axes>"
      ]
     },
     "metadata": {},
     "output_type": "display_data"
    },
    {
     "data": {
      "text/plain": [
       "<ggplot: (8744895092688)>"
      ]
     },
     "metadata": {},
     "output_type": "display_data"
    },
    {
     "data": {
      "application/vnd.jupyter.widget-view+json": {
       "model_id": "e009ed81dcf8445b9c54bead953d12c1",
       "version_major": 2,
       "version_minor": 0
      },
      "text/plain": [
       "VBox(children=(HBox(children=(Output(), Output())),))"
      ]
     },
     "metadata": {},
     "output_type": "display_data"
    }
   ],
   "source": [
    "# show that offset axis looks better when you specify the axis limits\n",
    "p = (\n",
    "    ggplot(ToothGrowth, aes(x=\"supp\", y=\"len\"))\n",
    "    + geom_boxplot(aes(fill=\"supp\"))\n",
    "    + theme_prism()\n",
    "    # guides not working without legend in plotnine\n",
    "    # + theme(legend_position=\"none\")\n",
    ")\n",
    "\n",
    "\n",
    "p1 = p + scale_y_continuous(guide=guide_prism_offset())\n",
    "p2 = p + scale_y_continuous(limits=(0, 40), guide=guide_prism_offset())\n",
    "\n",
    "plot_grid(p1, p2)\n"
   ]
  },
  {
   "cell_type": "code",
   "execution_count": 9,
   "metadata": {},
   "outputs": [
    {
     "data": {
      "application/vnd.jupyter.widget-view+json": {
       "model_id": "1cb6ea8ff1d94f7aafdb397fae5d717b",
       "version_major": 2,
       "version_minor": 0
      },
      "text/plain": [
       "VBox(children=(HBox(children=(Output(), Output())),))"
      ]
     },
     "metadata": {},
     "output_type": "display_data"
    }
   ],
   "source": [
    "# change appearance of offset axis\n",
    "p = (\n",
    "    ggplot(ToothGrowth, aes(x=\"supp\", y=\"len\"))\n",
    "    + geom_boxplot(aes(fill=\"supp\"))\n",
    "    + theme_prism()\n",
    "    + scale_y_continuous(limits=(0, 40), guide=guide_prism_offset())\n",
    ")\n",
    "\n",
    "p1 = p\n",
    "p2 = p + theme(axis_line_y=element_line(colour=\"blue\", size=4))\n",
    "\n",
    "plot_grid(p1, p2)"
   ]
  },
  {
   "cell_type": "code",
   "execution_count": 10,
   "metadata": {},
   "outputs": [
    {
     "data": {
      "application/vnd.jupyter.widget-view+json": {
       "model_id": "de0361f4bf95413395d02dedbbfbce3b",
       "version_major": 2,
       "version_minor": 0
      },
      "text/plain": [
       "VBox(children=(HBox(children=(Output(), Output())),))"
      ]
     },
     "metadata": {},
     "output_type": "display_data"
    }
   ],
   "source": [
    "# compare prism_minor with prism_offset_minor\n",
    "p = (\n",
    "    ggplot(ToothGrowth, aes(x=\"supp\", y=\"len\"))\n",
    "    + geom_boxplot(aes(fill=\"supp\"))\n",
    "    + theme_prism()\n",
    ")\n",
    "\n",
    "p1 = p + scale_y_continuous(guide=guide_prism_offset())\n",
    "p2 = p + scale_y_continuous(guide=guide_prism_offset_minor())\n",
    "\n",
    "plot_grid(p1, p2)\n"
   ]
  },
  {
   "cell_type": "code",
   "execution_count": 11,
   "metadata": {},
   "outputs": [
    {
     "data": {
      "application/vnd.jupyter.widget-view+json": {
       "model_id": "2c58685855ce45378a1aacd0881f21c9",
       "version_major": 2,
       "version_minor": 0
      },
      "text/plain": [
       "VBox(children=(HBox(children=(Output(), Output())),))"
      ]
     },
     "metadata": {},
     "output_type": "display_data"
    }
   ],
   "source": [
    "# As with guide_prism_offset(), the axis tends to look better\n",
    "# if you explicitly set the axis limits.\n",
    "p = (\n",
    "    ggplot(ToothGrowth, aes(x=\"supp\", y=\"len\"))\n",
    "    + geom_boxplot(aes(fill=\"supp\"))\n",
    "    + theme_prism()\n",
    ")\n",
    "\n",
    "p1 = p + scale_y_continuous(guide=guide_prism_offset_minor())\n",
    "p2 = p + scale_y_continuous(limits=(0, 40), guide=guide_prism_offset_minor())\n",
    "\n",
    "plot_grid(p1, p2)\n"
   ]
  },
  {
   "cell_type": "code",
   "execution_count": 12,
   "metadata": {},
   "outputs": [
    {
     "data": {
      "application/vnd.jupyter.widget-view+json": {
       "model_id": "ed7ab60ad1a14bf2ab37d76fdb887486",
       "version_major": 2,
       "version_minor": 0
      },
      "text/plain": [
       "VBox(children=(HBox(children=(Output(), Output())),))"
      ]
     },
     "metadata": {},
     "output_type": "display_data"
    }
   ],
   "source": [
    "# compare 1 minor tick to 4 minor ticks per major\n",
    "p = (\n",
    "    ggplot(ToothGrowth, aes(x=\"supp\", y=\"len\"))\n",
    "    + geom_boxplot(aes(fill=\"supp\"))\n",
    "    + theme_prism()\n",
    ")\n",
    "\n",
    "p1 = p + scale_y_continuous(\n",
    "    limits=(0, 40),\n",
    "    guide=guide_prism_offset_minor(),\n",
    ")\n",
    "p2 = p + scale_y_continuous(\n",
    "    limits=(0, 40),\n",
    "    minor_breaks=seq(0, 40, 2),\n",
    "    guide=guide_prism_offset_minor(),\n",
    ")\n",
    "\n",
    "plot_grid(p1, p2)\n"
   ]
  },
  {
   "cell_type": "code",
   "execution_count": 13,
   "metadata": {},
   "outputs": [
    {
     "data": {
      "application/vnd.jupyter.widget-view+json": {
       "model_id": "d92e605f5fbe47ff9085ba79d7ec6064",
       "version_major": 2,
       "version_minor": 0
      },
      "text/plain": [
       "VBox(children=(HBox(children=(Output(), Output())),))"
      ]
     },
     "metadata": {},
     "output_type": "display_data"
    }
   ],
   "source": [
    "# change minor tick length and direction\n",
    "p = (\n",
    "    ggplot(ToothGrowth, aes(x=\"supp\", y=\"len\"))\n",
    "    + geom_boxplot(aes(fill=\"supp\"))\n",
    "    + theme_prism()\n",
    "    + scale_y_continuous(\n",
    "        limits=(0, 40),\n",
    "        minor_breaks=seq(0, 40, 2),\n",
    "        guide=guide_prism_offset_minor(),\n",
    "    )\n",
    ")\n",
    "\n",
    "p1 = p + theme(prism_ticks_length_y=20)\n",
    "p2 = p + theme(prism_ticks_length_y=-20)\n",
    "\n",
    "plot_grid(p1, p2)\n"
   ]
  },
  {
   "cell_type": "code",
   "execution_count": 14,
   "metadata": {},
   "outputs": [
    {
     "data": {
      "application/vnd.jupyter.widget-view+json": {
       "model_id": "340b53d1162d42179a5aded0b143e2ca",
       "version_major": 2,
       "version_minor": 0
      },
      "text/plain": [
       "VBox(children=(HBox(children=(Output(), Output())),))"
      ]
     },
     "metadata": {},
     "output_type": "display_data"
    }
   ],
   "source": [
    "# change minor tick length and direction\n",
    "p = (\n",
    "    ggplot(ToothGrowth, aes(x=\"supp\", y=\"len\"))\n",
    "    + geom_boxplot(aes(fill=\"supp\"))\n",
    "    + theme_prism()\n",
    "    + scale_y_continuous(\n",
    "        limits=(0, 40),\n",
    "        minor_breaks=seq(0, 40, 2),\n",
    "        guide=guide_prism_offset_minor(),\n",
    "    )\n",
    ")\n",
    "\n",
    "p1 = p + theme(prism_ticks_length_y=20)\n",
    "p2 = p + theme(\n",
    "    prism_ticks_length_y=20,\n",
    "    axis_ticks_y=element_line(size=10),\n",
    ")\n",
    "\n",
    "plot_grid(p1, p2)\n"
   ]
  },
  {
   "cell_type": "markdown",
   "metadata": {},
   "source": [
    "# Border with minor ticks"
   ]
  },
  {
   "cell_type": "code",
   "execution_count": 15,
   "metadata": {},
   "outputs": [
    {
     "data": {
      "image/png": "[encoded data removed]",
      "text/plain": [
       "<Figure size 400x400 with 1 Axes>"
      ]
     },
     "metadata": {},
     "output_type": "display_data"
    },
    {
     "data": {
      "text/plain": [
       "<ggplot: (8744894889828)>"
      ]
     },
     "execution_count": 15,
     "metadata": {},
     "output_type": "execute_result"
    }
   ],
   "source": [
    "# define a base plot\n",
    "from datar.datasets import mpg\n",
    "base = ggplot(mpg, aes(x=\"displ\", y=\"cty\")) + geom_point(aes(colour=\"class\"))\n",
    "\n",
    "base\n"
   ]
  },
  {
   "cell_type": "code",
   "execution_count": 16,
   "metadata": {},
   "outputs": [
    {
     "data": {
      "image/png": "[encoded data removed]",
      "text/plain": [
       "<Figure size 400x400 with 1 Axes>"
      ]
     },
     "metadata": {},
     "output_type": "display_data"
    },
    {
     "data": {
      "text/plain": [
       "<ggplot: (8744895132971)>"
      ]
     },
     "execution_count": 16,
     "metadata": {},
     "output_type": "execute_result"
    }
   ],
   "source": [
    "# apply theme_prism and turn clipping off for the border\n",
    "p = (\n",
    "    base\n",
    "    + theme_prism(border=True)\n",
    "    + theme(legend_position=(0.75, 0.65))\n",
    "    + coord_cartesian()\n",
    "    + scale_x_continuous(guide=guide_prism())\n",
    "    + scale_y_continuous(guide=guide_prism())\n",
    ")\n",
    "p\n"
   ]
  },
  {
   "cell_type": "code",
   "execution_count": 17,
   "metadata": {},
   "outputs": [
    {
     "data": {
      "image/png": "[encoded data removed]",
      "text/plain": [
       "<Figure size 400x400 with 1 Axes>"
      ]
     },
     "metadata": {},
     "output_type": "display_data"
    },
    {
     "data": {
      "text/plain": [
       "<ggplot: (8744895169380)>"
      ]
     },
     "execution_count": 17,
     "metadata": {},
     "output_type": "execute_result"
    }
   ],
   "source": [
    "# get minor ticks back\n",
    "p = (\n",
    "    base\n",
    "    + theme_prism(border=True)\n",
    "    + theme(legend_position=(0.75, 0.65))\n",
    "    + coord_cartesian()\n",
    "    + scale_x_continuous(guide=guide_prism_minor())\n",
    "    + scale_y_continuous(guide=guide_prism_minor())\n",
    ")\n",
    "p"
   ]
  }
 ],
 "metadata": {
  "interpreter": {
   "hash": "c4cc73b080e063fcebb9afb794613be7caf4b26129562cba1382945a18cc49cc"
  },
  "kernelspec": {
   "display_name": "Python 3.7.8 64-bit ('base': conda)",
   "name": "python3"
  },
  "language_info": {
   "codemirror_mode": {
    "name": "ipython",
    "version": 3
   },
   "file_extension": ".py",
   "mimetype": "text/x-python",
   "name": "python",
   "nbconvert_exporter": "python",
   "pygments_lexer": "ipython3",
   "version": "3.9.5"
  },
  "orig_nbformat": 4
 },
 "nbformat": 4,
 "nbformat_minor": 2
}
